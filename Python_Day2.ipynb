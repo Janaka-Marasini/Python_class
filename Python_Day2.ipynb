{
 "cells": [
  {
   "cell_type": "code",
   "execution_count": null,
   "id": "638acdec",
   "metadata": {},
   "outputs": [],
   "source": [
    "i=0 ;\n",
    "while i<len(fruits):\n",
    "    print(fruits[i])\n",
    "    i=i+1\n",
    "    print(fruits*2)"
   ]
  },
  {
   "cell_type": "code",
   "execution_count": null,
   "id": "c93cfd0d",
   "metadata": {},
   "outputs": [],
   "source": [
    "fruits = [\"banana\", \"orange\", \"apple\", \"grape\"]\n",
    "\n",
    "\n",
    "if \"apple\" in fruits:\n",
    "    print(\"Yes, we have apples!\")\n",
    "else:\n",
    "    print(\"No apples found.\")"
   ]
  },
  {
   "cell_type": "code",
   "execution_count": null,
   "id": "a468b221",
   "metadata": {},
   "outputs": [],
   "source": [
    "student={\n",
    "    1:\"first\",\n",
    "    \"name\":\"Alice\",\n",
    "    \"age\":20,\n",
    "    \"courses\":[\"DBMS\",\"AOS\"]\n",
    "}\n",
    "print(student)\n",
    "print(student[\"age\"])\n",
    "print(student.get(\"name\"))\n",
    "#usinf dict().constructor\n",
    "student =dict(name=\"Alice\",age=30,city=\"nepal\")\n",
    "print(student)\n",
    "student[\"job\"]=\"Engineer\"\n",
    "student[\"age\"]=26\n",
    "print(student)\n",
    "del student[\"city\"]\n",
    "print(student)\n",
    "if\"jamuna\" in student .values():\n",
    "    print(\"Name exists\")\n",
    "else:\n",
    "    print(\"Name doesnot exist\")\n",
    "    for key in student:\n",
    "        print(key)\n",
    "        for value in student.values():\n",
    "            print(value)\n",
    "            for key,value in student.items():\n",
    "                print(key,value)"
   ]
  }
 ],
 "metadata": {
  "language_info": {
   "name": "python"
  }
 },
 "nbformat": 4,
 "nbformat_minor": 5
}
