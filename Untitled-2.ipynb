{
 "cells": [
  {
   "cell_type": "code",
   "execution_count": null,
   "id": "f305e8ed",
   "metadata": {},
   "outputs": [],
   "source": [
    "fruits=(\"Apple\",\"Banana\",\"Orange\")\n"
   ]
  },
  {
   "cell_type": "code",
   "execution_count": 70,
   "id": "2ac69623",
   "metadata": {},
   "outputs": [
    {
     "name": "stdout",
     "output_type": "stream",
     "text": [
      "{1: 'first', 'name': 'Alice', 'age': 20, 'courses': ['DBMS', 'AOS']}\n",
      "20\n",
      "Alice\n",
      "{'name': 'Alice', 'age': 30, 'city': 'nepal'}\n",
      "{'name': 'Alice', 'age': 26, 'city': 'nepal', 'job': 'Engineer'}\n",
      "{'name': 'Alice', 'age': 26, 'job': 'Engineer'}\n",
      "Name doesnot exist\n",
      "name\n",
      "Alice\n",
      "name Alice\n",
      "age 26\n",
      "job Engineer\n",
      "26\n",
      "name Alice\n",
      "age 26\n",
      "job Engineer\n",
      "Engineer\n",
      "name Alice\n",
      "age 26\n",
      "job Engineer\n",
      "age\n",
      "Alice\n",
      "name Alice\n",
      "age 26\n",
      "job Engineer\n",
      "26\n",
      "name Alice\n",
      "age 26\n",
      "job Engineer\n",
      "Engineer\n",
      "name Alice\n",
      "age 26\n",
      "job Engineer\n",
      "job\n",
      "Alice\n",
      "name Alice\n",
      "age 26\n",
      "job Engineer\n",
      "26\n",
      "name Alice\n",
      "age 26\n",
      "job Engineer\n",
      "Engineer\n",
      "name Alice\n",
      "age 26\n",
      "job Engineer\n"
     ]
    }
   ],
   "source": [
    "student={\n",
    "    1:\"first\",\n",
    "    \"name\":\"Alice\",\n",
    "    \"age\":20,\n",
    "    \"courses\":[\"DBMS\",\"AOS\"]\n",
    "}\n",
    "print(student)\n",
    "print(student[\"age\"])\n",
    "print(student.get(\"name\"))\n",
    "#usinf dict().constructor\n",
    "student =dict(name=\"Alice\",age=30,city=\"nepal\")\n",
    "print(student)\n",
    "student[\"job\"]=\"Engineer\"\n",
    "student[\"age\"]=26\n",
    "print(student)\n",
    "del student[\"city\"]\n",
    "print(student)\n",
    "if\"jamuna\" in student .values():\n",
    "    print(\"Name exists\")\n",
    "else:\n",
    "    print(\"Name doesnot exist\")\n",
    "    for key in student:\n",
    "        print(key)\n",
    "        for value in student.values():\n",
    "            print(value)\n",
    "            for key,value in student.items():\n",
    "                print(key,value)"
   ]
  },
  {
   "cell_type": "code",
   "execution_count": 59,
   "id": "ad110029",
   "metadata": {},
   "outputs": [
    {
     "name": "stdout",
     "output_type": "stream",
     "text": [
      "banana\n",
      "['banana', 'orange', 'apple', 'grape', 'banana', 'orange', 'apple', 'grape']\n",
      "orange\n",
      "['banana', 'orange', 'apple', 'grape', 'banana', 'orange', 'apple', 'grape']\n",
      "apple\n",
      "['banana', 'orange', 'apple', 'grape', 'banana', 'orange', 'apple', 'grape']\n",
      "grape\n",
      "['banana', 'orange', 'apple', 'grape', 'banana', 'orange', 'apple', 'grape']\n"
     ]
    }
   ],
   "source": [
    "i=0 ;\n",
    "while i<len(fruits):\n",
    "    print(fruits[i])\n",
    "    i=i+1\n",
    "    print(fruits*2)"
   ]
  },
  {
   "cell_type": "code",
   "execution_count": 57,
   "id": "b61329bf",
   "metadata": {},
   "outputs": [
    {
     "name": "stdout",
     "output_type": "stream",
     "text": [
      "Yes, we have apples!\n"
     ]
    }
   ],
   "source": [
    "\n",
    "fruits = [\"banana\", \"orange\", \"apple\", \"grape\"]\n",
    "\n",
    "\n",
    "if \"apple\" in fruits:\n",
    "    print(\"Yes, we have apples!\")\n",
    "else:\n",
    "    print(\"No apples found.\")\n"
   ]
  },
  {
   "cell_type": "code",
   "execution_count": 56,
   "id": "003907fa",
   "metadata": {},
   "outputs": [
    {
     "name": "stdout",
     "output_type": "stream",
     "text": [
      "[1, 'hello', 3.14, True] (1, 'hello', 3.14, True) {1, 3.14, 'hello'}\n"
     ]
    }
   ],
   "source": [
    "list=[1,\"hello\",3.14,True]\n",
    "tuple=(1,\"hello\",3.14,True)\n",
    "set={1,\"hello\",3.14,True}\n",
    "print(list,tuple,set)"
   ]
  },
  {
   "cell_type": "code",
   "execution_count": 48,
   "id": "527a5c02",
   "metadata": {},
   "outputs": [
    {
     "name": "stdout",
     "output_type": "stream",
     "text": [
      "(1, 2, (3, 4), ['a', 'b'])\n"
     ]
    }
   ],
   "source": [
    "t=(1,2,(3,4),[\"a\",\"b\"])\n",
    "print(t)"
   ]
  },
  {
   "cell_type": "code",
   "execution_count": 47,
   "id": "edf658aa",
   "metadata": {},
   "outputs": [
    {
     "name": "stdout",
     "output_type": "stream",
     "text": [
      "Apple\n",
      "Orange\n",
      "Banana\n",
      "('Apple', 'Banana', 'Orange', 'cherry')\n"
     ]
    }
   ],
   "source": [
    "fruits=(\"Apple\",\"Banana\",\"Orange\",\"cherry\")\n",
    "(green,yellow,red,black)=fruits\n",
    "print(green)\n",
    "print(red)\n",
    "print(yellow)\n",
    "(green,red,*yellow)=fruits\n",
    "print(fruits)"
   ]
  },
  {
   "cell_type": "code",
   "execution_count": 43,
   "id": "864dad9e",
   "metadata": {},
   "outputs": [
    {
     "name": "stdout",
     "output_type": "stream",
     "text": [
      "('apple', 'banana', 'mango', 'orange', 'cherry')\n"
     ]
    }
   ],
   "source": [
    "newTuple=('apple','banana','mango','orange')\n",
    "y=(\"cherry\",)\n",
    "newTuple+=y\n",
    "print(newTuple)"
   ]
  },
  {
   "cell_type": "code",
   "execution_count": null,
   "id": "59124901",
   "metadata": {},
   "outputs": [
    {
     "name": "stdout",
     "output_type": "stream",
     "text": [
      "{'jamuna', 'aakankshya'}\n",
      "{'bike', 'car', 'scooty'}\n",
      "{'apple', 'mango'}\n"
     ]
    }
   ],
   "source": [
    "item1={\"jamuna\",\"janaka\",\"aakankshya\"}\n",
    "item2={\"apple\",\"banana\",\"mango\"}\n",
    "item3={\"bike\",\"car\",\"scooty\"}\n",
    "item1.discard(\"janaka\")\n",
    "print(item1)\n",
    "print(item3)\n",
    "item2.remove(\"banana\")\n",
    "\n",
    "\n",
    "print(item2)\n"
   ]
  },
  {
   "cell_type": "code",
   "execution_count": 32,
   "id": "4fa2d117",
   "metadata": {},
   "outputs": [
    {
     "name": "stdout",
     "output_type": "stream",
     "text": [
      "['__and__', '__class__', '__class_getitem__', '__contains__', '__delattr__', '__dir__', '__doc__', '__eq__', '__format__', '__ge__', '__getattribute__', '__getstate__', '__gt__', '__hash__', '__iand__', '__init__', '__init_subclass__', '__ior__', '__isub__', '__iter__', '__ixor__', '__le__', '__len__', '__lt__', '__ne__', '__new__', '__or__', '__rand__', '__reduce__', '__reduce_ex__', '__repr__', '__ror__', '__rsub__', '__rxor__', '__setattr__', '__sizeof__', '__str__', '__sub__', '__subclasshook__', '__xor__', 'add', 'clear', 'copy', 'difference', 'difference_update', 'discard', 'intersection', 'intersection_update', 'isdisjoint', 'issubset', 'issuperset', 'pop', 'remove', 'symmetric_difference', 'symmetric_difference_update', 'union', 'update']\n"
     ]
    }
   ],
   "source": [
    "fruits={\"apple\",\"banana\",\"mango\",\"orange\",\"apple\"}\n",
    "print(dir(fruits))\n",
    "\n",
    "fruits.remove('apple')\n"
   ]
  },
  {
   "cell_type": "code",
   "execution_count": 19,
   "id": "2309ce15",
   "metadata": {},
   "outputs": [
    {
     "name": "stdout",
     "output_type": "stream",
     "text": [
      "{'apple', 'orange', 'banana', 'mango'}\n"
     ]
    }
   ],
   "source": [
    "fruits={\"apple\",\"banana\",\"mango\",\"orange\",\"apple\"}\n",
    "print(fruits)"
   ]
  },
  {
   "cell_type": "code",
   "execution_count": 16,
   "id": "0eb52786",
   "metadata": {},
   "outputs": [
    {
     "name": "stdout",
     "output_type": "stream",
     "text": [
      "['APPLE', 'BANANA', 'MANGO']\n"
     ]
    }
   ],
   "source": [
    "words=['apple','banana','mango']\n",
    "uppercased = [word.upper()for word in words]\n",
    "print(uppercased)"
   ]
  },
  {
   "cell_type": "code",
   "execution_count": 15,
   "id": "04863c51",
   "metadata": {},
   "outputs": [
    {
     "name": "stdout",
     "output_type": "stream",
     "text": [
      "[1, 4, 9, 16, 25]\n"
     ]
    }
   ],
   "source": [
    "squares=[x**2 for x in range(1,6)]\n",
    "print(squares)"
   ]
  },
  {
   "cell_type": "code",
   "execution_count": 5,
   "id": "9d82ce74",
   "metadata": {},
   "outputs": [
    {
     "name": "stdout",
     "output_type": "stream",
     "text": [
      "True\n",
      "True\n",
      "False\n",
      "True\n"
     ]
    }
   ],
   "source": [
    "list1=[1,2,3,[4,5]]\n",
    "print(1 in list1)\n",
    "print([4,5] in list1)\n",
    "print(4 in list1)\n",
    "print(4 in list1[3])"
   ]
  },
  {
   "cell_type": "code",
   "execution_count": 12,
   "id": "0ce3350a",
   "metadata": {},
   "outputs": [
    {
     "name": "stdout",
     "output_type": "stream",
     "text": [
      "[4, 5, [6, 7, 8], 9]\n",
      "[6, 7, 8]\n",
      "7\n"
     ]
    }
   ],
   "source": [
    "list=[1,2,3,[4,5,[6,7,8],9]]\n",
    "print(list[3])\n",
    "print(list[3][2])\n",
    "print(list[3][2][1])"
   ]
  },
  {
   "cell_type": "code",
   "execution_count": 8,
   "id": "2c1cf722",
   "metadata": {},
   "outputs": [
    {
     "name": "stdout",
     "output_type": "stream",
     "text": [
      "['apple', 'orange', 'banana', 'mango', 'apple']\n"
     ]
    }
   ],
   "source": [
    "\n",
    "fruits=[\"apple\",\"orange\",\"banana\",\"mango\"]\n",
    "fruits.append(\"apple\")\n",
    "print(fruits)\n"
   ]
  }
 ],
 "metadata": {
  "kernelspec": {
   "display_name": "Python 3",
   "language": "python",
   "name": "python3"
  },
  "language_info": {
   "codemirror_mode": {
    "name": "ipython",
    "version": 3
   },
   "file_extension": ".py",
   "mimetype": "text/x-python",
   "name": "python",
   "nbconvert_exporter": "python",
   "pygments_lexer": "ipython3",
   "version": "3.13.5"
  }
 },
 "nbformat": 4,
 "nbformat_minor": 5
}
